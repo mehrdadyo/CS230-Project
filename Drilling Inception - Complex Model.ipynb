{
 "cells": [
  {
   "cell_type": "code",
   "execution_count": 3,
   "metadata": {},
   "outputs": [],
   "source": [
    "import tensorflow as tf\n",
    "import numpy as np\n",
    "import pandas as pd\n",
    "from typing import Tuple\n",
    "import matplotlib.pyplot as plt\n",
    "import sys\n",
    "import matplotlib.image\n",
    "from numpy import genfromtxt\n",
    "dtype = tf.float32"
   ]
  },
  {
   "cell_type": "code",
   "execution_count": 80,
   "metadata": {},
   "outputs": [
    {
     "name": "stdout",
     "output_type": "stream",
     "text": [
      "Reading Data..\n",
      "loading data finished!\n",
      "Data restructuring..\n",
      "train_x shape:  (3000, 300)\n",
      "train_y shape:  (3000, 50)\n",
      "test_x shape:  (500, 300)\n",
      "test_y shape:  (500, 50)\n"
     ]
    }
   ],
   "source": [
    "#data loading\n",
    "print(\"Reading Data..\")\n",
    "data = genfromtxt('shuffledSet.txt')\n",
    "#set1 = genfromtxt('set1_834450x7.txt')\n",
    "#set2 = genfromtxt('set2_834450x7.txt')\n",
    "#ata = np.concatenate((set1,set2),axis=0)\n",
    "print('loading data finished!')\n",
    "\n",
    "#reshaping\n",
    "print(\"Data restructuring..\")\n",
    "numtrainLogs = 6\n",
    "trainSize = 3000\n",
    "testSize = 500\n",
    "\n",
    "y = data[:,numtrainLogs]\n",
    "x = data[:,0:numtrainLogs]\n",
    "yreshape = y.reshape(33543,50, 1)\n",
    "xreshape = x.reshape(33543,50, numtrainLogs)\n",
    "xreshape = xreshape.reshape(33543,50*6)\n",
    "yreshape = yreshape.reshape(33543,50*1)\n",
    "train_x = xreshape[0:trainSize,:]\n",
    "train_y = yreshape[0:trainSize,:]\n",
    "test_x = xreshape[trainSize:trainSize+testSize, :]\n",
    "test_y = yreshape[trainSize:trainSize+testSize, :]\n",
    "print('train_x shape: ', train_x.shape)\n",
    "print('train_y shape: ', train_y.shape)\n",
    "print('test_x shape: ', test_x.shape)\n",
    "print('test_y shape: ', test_y.shape)"
   ]
  },
  {
   "cell_type": "code",
   "execution_count": 81,
   "metadata": {},
   "outputs": [],
   "source": [
    "def weight_variable(shape, name):\n",
    "    #return tf.get_variable(name, shape=shape, dtype=dtype, initializer=tf.contrib.layers.xavier_initializer())\n",
    "    initial = tf.truncated_normal(shape, stddev=0.1, dtype=tf.float32)\n",
    "    return tf.Variable(initial, name=name, dtype=tf.float32)\n",
    "\n",
    "def bias_variable(shape, name):\n",
    "    initial = tf.constant(0.1, shape=shape, dtype=dtype)\n",
    "    return tf.Variable(initial, name=name, dtype=dtype)\n",
    "\n",
    "def conv2d(x, W):\n",
    "    return tf.nn.conv2d(x, W, strides=[1, 1, 1, 1], padding='SAME')\n",
    "\n",
    "def conv_layer(x, r, c, i, o, name):\n",
    "    W_conv = weight_variable([r, c, i, o], name + '_w')\n",
    "    b_conv = bias_variable([o], name + '_b')\n",
    "    return tf.nn.relu(conv2d(x, W_conv) + b_conv)\n",
    "\n",
    "def inception_layer(x, i, o11, o21, o22, o31, o32, o41, name):    # input, input_layers, output_layers 1 and 2\n",
    "    conv5x6 = conv_layer(x, 5, 6, i, o11, name + 'conv5x6')\n",
    "    conv15x6 = conv_layer(x, 15, 6, i, o21, name + 'conv15x6')\n",
    "    conv30x6 = conv_layer(x, 30, 6, i, o22, name + 'conv30x6')\n",
    "    conv50x6 = conv_layer(x, 50, 6, i, o31, name + 'conv50x6')\n",
    "    return tf.nn.relu(tf.concat([conv5x6, conv15x6, conv30x6], 3))\n",
    "\n",
    "def max_pool(x, w, h, s):\n",
    "    return tf.nn.max_pool(x, ksize=[1, w, h, 1],\n",
    "                          strides=[1, s, s, 1], padding='SAME')\n",
    "\n",
    "def avg_pool(x, w, h, s):\n",
    "    return tf.nn.avg_pool(x, ksize=[1, w, h, 1],\n",
    "                          strides=[1, s, s, 1], padding='SAME')\n",
    "def avg_pool_final(x, w, h, s):\n",
    "    return tf.nn.avg_pool(x, ksize=[1, w, h, 1],\n",
    "                          strides=[1, s, s, 1], padding='VALID')\n",
    "\n",
    "def fully_connected(X, layers, out, name):\n",
    "    pre_l = 0\n",
    "    i = 1\n",
    "    for l in layers:\n",
    "        if not pre_l:\n",
    "            pre_l = l\n",
    "            continue\n",
    "        w_h = weight_variable([pre_l, l], name + '_' + str(i) + '_w')\n",
    "        b_h = bias_variable([l], name + '_' + str(i) + '_b')\n",
    "        X = tf.nn.relu(tf.matmul(X, w_h) + b_h)\n",
    "        pre_l = l\n",
    "        i += 1\n",
    "    w_h = weight_variable([pre_l, out], name + '_' + str(i) + '_w')\n",
    "    b_h = bias_variable([out], name + '_' + str(i) + '_b')\n",
    "    return tf.matmul(X, w_h) + b_h"
   ]
  },
  {
   "cell_type": "code",
   "execution_count": 84,
   "metadata": {},
   "outputs": [
    {
     "name": "stdout",
     "output_type": "stream",
     "text": [
      "Initializing variables..\n",
      "Creating Model...\n",
      "x_ Tensor(\"Reshape_62:0\", shape=(?, 50, 6, 1), dtype=float32)\n",
      "inc1 Tensor(\"Relu_388:0\", shape=(?, 50, 6, 128), dtype=float32)\n",
      "inc2 Tensor(\"Relu_393:0\", shape=(?, 50, 6, 128), dtype=float32)\n",
      "pool Tensor(\"MaxPool_26:0\", shape=(?, 25, 3, 128), dtype=float32)\n",
      "norm Tensor(\"BatchNorm_24/FusedBatchNorm:0\", shape=(?, 25, 3, 128), dtype=float32)\n",
      "inc3 Tensor(\"Relu_398:0\", shape=(?, 25, 3, 128), dtype=float32)\n",
      "pool Tensor(\"AvgPool_29:0\", shape=(?, 1, 1, 128), dtype=float32)\n",
      "cnn Tensor(\"Reshape_63:0\", shape=(?, 128), dtype=float32)\n",
      "cnn dropout Tensor(\"dropout_21/mul:0\", shape=(?, 128), dtype=float32)\n",
      "yhat Tensor(\"add_344:0\", shape=(?, 50), dtype=float32)\n",
      "y (?, 50)\n"
     ]
    }
   ],
   "source": [
    "#initialization\n",
    "print(\"Initializing variables..\")\n",
    "BATCH_SIZE = 128\n",
    "learning_rate = 1.00e-4\n",
    "epoch = 0 \n",
    "epochNum = 5\n",
    "data_size = len(train_x)\n",
    "lossTrain = np.zeros((epochNum,1))\n",
    "lossTest = np.zeros((epochNum,1))\n",
    "    \n",
    "#Model creation: placeholders\n",
    "print(\"Creating Model...\")\n",
    "X = tf.placeholder(dtype, [None, 300])\n",
    "Y = tf.placeholder(dtype, [None, 50])\n",
    "tr = tf.placeholder(dtype)\n",
    "pr = tf.placeholder(dtype)\n",
    "    \n",
    "#convolution\n",
    "x_ = tf.reshape(X, [-1, 50, 6, 1])     # 50 x 6 x 1\n",
    "print(\"x_\", x_)\n",
    "conv = inception_layer(x_, 1, 32, 64, 32, 32, 32, 32, 'inc1')  # 50 x 6 x 128\n",
    "print(\"inc1\", conv)\n",
    "conv = inception_layer(conv, 128, 64, 32, 32, 32, 32, 32, 'inc2')  # 50 x 6 x 128\n",
    "print(\"inc2\", conv)\n",
    "pool = max_pool(conv, 7, 5, 2)             # 50 x 6 x 128\n",
    "print(\"pool\", pool)\n",
    "norm = tf.contrib.layers.batch_norm(pool)\n",
    "print(\"norm\", norm)\n",
    "conv = inception_layer(norm, 128, 64, 32, 32, 32, 64, 64, 'inc3')  # 25 x 3 x 128\n",
    "print(\"inc3\", conv)\n",
    "pool = avg_pool_final(conv, 25, 3, 1)             # 1 x 1 x 128\n",
    "print(\"pool\", pool)\n",
    "\n",
    "#FCL and dropout\n",
    "cnn = tf.reshape(pool, [-1, 128])     # 128\n",
    "print(\"cnn\", cnn)\n",
    "cnn = tf.nn.dropout(cnn, pr)\n",
    "print(\"cnn dropout\", cnn)\n",
    "out_y = fully_connected(cnn, [128], 50, 'fc1')   # 50\n",
    "print(\"yhat\", out_y)\n",
    "print(\"y\", Y.shape)\n",
    "\n",
    "#loss function\n",
    "loss = tf.reduce_mean(tf.losses.mean_squared_error(predictions = out_y, labels = Y)) \n",
    "\n",
    "#training \n",
    "train_step = tf.train.AdamOptimizer(tr).minimize(loss)"
   ]
  },
  {
   "cell_type": "code",
   "execution_count": 85,
   "metadata": {},
   "outputs": [],
   "source": [
    "#load trained model\n",
    "#with tf.Session() as sess:\n",
    "#    tf.train.Saver().restore(sess, \"./model/testmodel.ckpt\")\n",
    "#    lossTrain = sess.run(loss, feed_dict={X: train_x, Y: train_y, pr: 1.0})\n",
    "#    lossTest = sess.run(loss, feed_dict={X: test_x, Y: test_y, pr: 1.0})\n",
    "#    yhat = yhat = sess.run(out_y, feed_dict={X: test_x[1:2,:], pr: 1.0})"
   ]
  },
  {
   "cell_type": "code",
   "execution_count": 86,
   "metadata": {},
   "outputs": [
    {
     "name": "stdout",
     "output_type": "stream",
     "text": [
      "Training...\n",
      "epoch:  0 , Train Accuracy:  [2.67974448] Test Accuracy: [2.80741405] , learning_rate:  0.0001\n",
      "epoch:  1 , Train Accuracy:  [1.56196558] Test Accuracy: [1.70858252] , learning_rate:  0.0001\n",
      "epoch:  2 , Train Accuracy:  [1.24070454] Test Accuracy: [1.39041245] , learning_rate:  0.0001\n",
      "epoch:  3 , Train Accuracy:  [1.10680985] Test Accuracy: [1.24486434] , learning_rate:  0.0001\n",
      "epoch:  4 , Train Accuracy:  [1.04225636] Test Accuracy: [1.17220747] , learning_rate:  0.0001\n"
     ]
    }
   ],
   "source": [
    "#Running the training session\n",
    "saver = tf.train.Saver()\n",
    "sess = tf.Session()\n",
    "with sess.as_default() as sess:\n",
    "    tf.global_variables_initializer().run()\n",
    "    print(\"Training...\")\n",
    "    while epoch < epochNum:\n",
    "        batchIter = 0; \n",
    "        for start in range(0, data_size, BATCH_SIZE):\n",
    "            batchIter += 1\n",
    "            end = start + BATCH_SIZE\n",
    "            sess.run(train_step, feed_dict={X: train_x[start:end], Y: train_y[start:end], tr: learning_rate, pr: 0.45})\n",
    "            batchPer = 100*batchIter*BATCH_SIZE/data_size\n",
    "            if round(batchPer) % 25 == 0:\n",
    "                print('percent of batch: ', batchPer) \n",
    "        #print accuracy \n",
    "        lossTrain[epoch] = sess.run(loss, feed_dict={X: train_x, Y: train_y, pr: 1.0})\n",
    "        lossTest[epoch] = sess.run(loss, feed_dict={X: test_x, Y: test_y, pr: 1.0})\n",
    "        print('epoch: ', epoch+1, ', Train Accuracy: ', lossTrain[epoch],'Test Accuracy:', lossTest[epoch], ', learning_rate: ', learning_rate)\n",
    "        epoch += 1\n",
    "    writer = tf.summary.FileWriter(\"./TestModel\")\n",
    "    writer.add_graph(sess.graph)\n"
   ]
  },
  {
   "cell_type": "code",
   "execution_count": 87,
   "metadata": {},
   "outputs": [
    {
     "data": {
      "image/png": "[encoded data removed]",
      "text/plain": [
       "<Figure size 432x288 with 1 Axes>"
      ]
     },
     "metadata": {
      "needs_background": "light"
     },
     "output_type": "display_data"
    }
   ],
   "source": [
    "#plotting the loss over epoch\n",
    "plt.title('Loss over Epochs (Test and Training)')\n",
    "plt.xlabel('Epoch')\n",
    "plt.ylabel('Mean Square Error Loss')\n",
    "epochArray = np.array(list(range(1, epochNum+1)))    \n",
    "plt.plot(epochArray, lossTrain, 'b')\n",
    "plt.plot(epochArray, lossTest, 'r')\n",
    "plt.legend(('Train', 'Test'))\n",
    "plt.show()"
   ]
  },
  {
   "cell_type": "code",
   "execution_count": 88,
   "metadata": {},
   "outputs": [
    {
     "data": {
      "image/png": "[encoded data removed]",
      "text/plain": [
       "<Figure size 432x288 with 1 Axes>"
      ]
     },
     "metadata": {
      "needs_background": "light"
     },
     "output_type": "display_data"
    }
   ],
   "source": [
    "#plotting prediction vs. label Gamma Ray\n",
    "depthUnit = 0.5    #each data point is half a foot\n",
    "depthPoint = np.array(list(range(1, 51)))*depthUnit    \n",
    "yhat = np.transpose(sess.run(out_y, feed_dict={X: test_x[1:2,:], pr: 1.0}))\n",
    "y = np.transpose(train_y[0:1,:])\n",
    "plt.plot(depthPoint, yhat)\n",
    "plt.plot(depthPoint, y)\n",
    "plt.title('GR: Prediction Vs. Original')\n",
    "plt.xlabel('depth, ft ')\n",
    "plt.ylabel('American Petroleum Institute, API')\n",
    "plt.legend(('prediction', 'original'))\n",
    "plt.show()"
   ]
  },
  {
   "cell_type": "code",
   "execution_count": 74,
   "metadata": {},
   "outputs": [
    {
     "data": {
      "text/plain": [
       "(1, 50)"
      ]
     },
     "execution_count": 74,
     "metadata": {},
     "output_type": "execute_result"
    }
   ],
   "source": [
    "yhat.shape"
   ]
  },
  {
   "cell_type": "code",
   "execution_count": null,
   "metadata": {},
   "outputs": [],
   "source": [
    "save_path = saver.save(sess, \"./model/testmodel.ckpt\")"
   ]
  },
  {
   "cell_type": "code",
   "execution_count": null,
   "metadata": {},
   "outputs": [],
   "source": [
    "sess.close()"
   ]
  }
 ],
 "metadata": {
  "kernelspec": {
   "display_name": "Python 3",
   "language": "python",
   "name": "python3"
  },
  "language_info": {
   "codemirror_mode": {
    "name": "ipython",
    "version": 3
   },
   "file_extension": ".py",
   "mimetype": "text/x-python",
   "name": "python",
   "nbconvert_exporter": "python",
   "pygments_lexer": "ipython3",
   "version": "3.6.8"
  }
 },
 "nbformat": 4,
 "nbformat_minor": 2
}
